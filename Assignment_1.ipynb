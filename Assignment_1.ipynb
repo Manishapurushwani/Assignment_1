{
 "cells": [
  {
   "cell_type": "markdown",
   "id": "d2cb04cf",
   "metadata": {},
   "source": [
    "1. In the below elements which of them are values or an expression? eg:- values can be\n",
    "integer or string and expressions will be mathematical operators.\n",
    "\n",
    " *\n",
    "\n",
    " 'hello'\n",
    "\n",
    " -87.8\n",
    "\n",
    " -\n",
    "\n",
    " /\n",
    "\n",
    " +\n",
    "\n",
    " 6"
   ]
  },
  {
   "cell_type": "markdown",
   "id": "421ba3c9",
   "metadata": {},
   "source": [
    "value = 'hello' , -87.8 , 6\n",
    "\n",
    "expression = * , - , / , +"
   ]
  },
  {
   "cell_type": "markdown",
   "id": "1d15a507",
   "metadata": {},
   "source": [
    "2. What is the difference between string and variable?"
   ]
  },
  {
   "cell_type": "markdown",
   "id": "644dd7db",
   "metadata": {},
   "source": [
    "A Variable is a store of information, and a String is a type of information you would store in a Variable. \n",
    "Strings always start and end with quotes.\n",
    "\n",
    "example\n",
    "\n",
    "a = \"hello\"\n",
    "\n",
    "here a is variable and \"hello\" is string."
   ]
  },
  {
   "cell_type": "markdown",
   "id": "a0882fb4",
   "metadata": {},
   "source": [
    "3. Describe three different data types."
   ]
  },
  {
   "cell_type": "markdown",
   "id": "6b470f2a",
   "metadata": {},
   "source": [
    "1. Strings\n",
    "\n",
    "2. Floating point numbers\n",
    "\n",
    "3. Integers\n",
    "\n",
    "example:\n",
    "\n",
    "String = \"hello\"\n",
    "\n",
    "Floating point number = 23.67\n",
    "\n",
    "Integer = 34"
   ]
  },
  {
   "cell_type": "markdown",
   "id": "1fd3f86f",
   "metadata": {},
   "source": [
    "4. What is an expression made up of? What do all expressions do?"
   ]
  },
  {
   "cell_type": "markdown",
   "id": "93a099e6",
   "metadata": {},
   "source": [
    "An expression is a combination of values and operators. The expression in Python produces some value or result."
   ]
  },
  {
   "cell_type": "markdown",
   "id": "e5e7369e",
   "metadata": {},
   "source": [
    "5. This assignment statements, like spam = 10. What is the difference between an\n",
    "expression and a statement?"
   ]
  },
  {
   "cell_type": "markdown",
   "id": "a8b8f238",
   "metadata": {},
   "source": [
    "A statement is used for creating variables or for displaying values. The expression produces some value or result.  A statement is not evaluated for some results. An expression is evaluated for some results."
   ]
  },
  {
   "cell_type": "markdown",
   "id": "e0f8406b",
   "metadata": {},
   "source": [
    "6. After running the following code, what does the variable bacon contain?\n",
    "\n",
    "bacon = 22\n",
    "\n",
    "bacon + 1"
   ]
  },
  {
   "cell_type": "markdown",
   "id": "4febc033",
   "metadata": {},
   "source": [
    "After ruuning the following code the variable bacon contain 22 ."
   ]
  },
  {
   "cell_type": "markdown",
   "id": "f63df383",
   "metadata": {},
   "source": [
    "7. What should the values of the following two terms be?\n",
    "\n",
    "'spam' + 'spamspam'\n",
    "\n",
    "'spam' * 3"
   ]
  },
  {
   "cell_type": "markdown",
   "id": "c542edc8",
   "metadata": {},
   "source": [
    "After executing both terms we get same value 'spamspamspam' ."
   ]
  },
  {
   "cell_type": "markdown",
   "id": "f13712ce",
   "metadata": {},
   "source": [
    "8. Why is eggs a valid variable name while 100 is invalid?"
   ]
  },
  {
   "cell_type": "markdown",
   "id": "9fd0d6a4",
   "metadata": {},
   "source": [
    "Beacause variable names cannot begin with a number. So eggs a vaild variable name while 100 is invaild."
   ]
  },
  {
   "cell_type": "markdown",
   "id": "aefca3a8",
   "metadata": {},
   "source": [
    "9. What three functions can be used to get the integer, floating-point number, or string\n",
    "version of a value?"
   ]
  },
  {
   "cell_type": "markdown",
   "id": "4a0a3788",
   "metadata": {},
   "source": [
    "str()\n",
    "\n",
    "int()\n",
    "\n",
    "float()"
   ]
  },
  {
   "cell_type": "markdown",
   "id": "9bdeb3dd",
   "metadata": {},
   "source": [
    "10. Why does this expression cause an error? How can you fix it?\n",
    "\n",
    "'I have eaten' + 99 + 'burritos'"
   ]
  },
  {
   "cell_type": "markdown",
   "id": "ac17f6bb",
   "metadata": {},
   "source": [
    "The expression causes an error because 99 is an integer, and only strings can be concatenated to other strings with the + operator. The correct way is 'I have eaten' + str(99) + 'burritos'"
   ]
  }
 ],
 "metadata": {
  "kernelspec": {
   "display_name": "Python 3 (ipykernel)",
   "language": "python",
   "name": "python3"
  },
  "language_info": {
   "codemirror_mode": {
    "name": "ipython",
    "version": 3
   },
   "file_extension": ".py",
   "mimetype": "text/x-python",
   "name": "python",
   "nbconvert_exporter": "python",
   "pygments_lexer": "ipython3",
   "version": "3.9.12"
  }
 },
 "nbformat": 4,
 "nbformat_minor": 5
}
