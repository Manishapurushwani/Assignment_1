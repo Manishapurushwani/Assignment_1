{
 "cells": [
  {
   "cell_type": "markdown",
   "id": "deb20680",
   "metadata": {},
   "source": [
    "#1. Why are functions advantageous to have in your programs?"
   ]
  },
  {
   "cell_type": "markdown",
   "id": "f5e3ffa8",
   "metadata": {},
   "source": [
    "Ans. Functions reduce the need for duplicate code. This makes programs shorter, easier to read, and easier to update."
   ]
  },
  {
   "cell_type": "markdown",
   "id": "0d34afec",
   "metadata": {},
   "source": [
    "#2. When does the code in a function run: when it's specified or when it's called?"
   ]
  },
  {
   "cell_type": "markdown",
   "id": "7fe7712b",
   "metadata": {},
   "source": [
    "Ans. The code in a function executes when the function is called, not when the function is defined."
   ]
  },
  {
   "cell_type": "markdown",
   "id": "035f774b",
   "metadata": {},
   "source": [
    "#3. What statement creates a function?"
   ]
  },
  {
   "cell_type": "markdown",
   "id": "96681bff",
   "metadata": {},
   "source": [
    "Ans. The def statement creates a function."
   ]
  },
  {
   "cell_type": "markdown",
   "id": "cf35324a",
   "metadata": {},
   "source": [
    "#4. What is the difference between a function and a function call?"
   ]
  },
  {
   "cell_type": "markdown",
   "id": "205448ba",
   "metadata": {},
   "source": [
    "Ans. Defining a function means to write a function with all of the code inside it.\n",
    "Defining a function does not run any of the code inside that function. It only teaches the computer what that function means. You can actually run that code by “calling” the function."
   ]
  },
  {
   "cell_type": "markdown",
   "id": "1143fe33",
   "metadata": {},
   "source": [
    "#5. How many global scopes are there in a Python program? How many local scopes?"
   ]
  },
  {
   "cell_type": "markdown",
   "id": "80990dc7",
   "metadata": {},
   "source": [
    "Ans. There is one global scope, and a local scope is created whenever a function is called."
   ]
  },
  {
   "cell_type": "markdown",
   "id": "9a1359c6",
   "metadata": {},
   "source": [
    "#6. What happens to variables in a local scope when the function call returns?"
   ]
  },
  {
   "cell_type": "markdown",
   "id": "26cc2796",
   "metadata": {},
   "source": [
    "Ans. When a function returns, the local scope is destroyed, and all the variables in it are forgotten."
   ]
  },
  {
   "cell_type": "markdown",
   "id": "da429edd",
   "metadata": {},
   "source": [
    "#7. What is the concept of a return value? Is it possible to have a return value in an expression?"
   ]
  },
  {
   "cell_type": "markdown",
   "id": "cddd7173",
   "metadata": {},
   "source": [
    "Ans. A return value is the value that a function call evaluates to. Like any value, a return value can be used as part of an expression."
   ]
  },
  {
   "cell_type": "markdown",
   "id": "83a96461",
   "metadata": {},
   "source": [
    "#8. If a function does not have a return statement, what is the return value of a call to that function?"
   ]
  },
  {
   "cell_type": "markdown",
   "id": "375607e9",
   "metadata": {},
   "source": [
    "Ans. If the funtion does not have a return statement it will not return anything."
   ]
  },
  {
   "cell_type": "markdown",
   "id": "2f46aadd",
   "metadata": {},
   "source": [
    "#9. How do you make a function variable refer to the global variable?"
   ]
  },
  {
   "cell_type": "markdown",
   "id": "1f88b973",
   "metadata": {},
   "source": [
    "Ans. A global statement will force a variable in a function to refer to the global variable."
   ]
  },
  {
   "cell_type": "markdown",
   "id": "aa03a869",
   "metadata": {},
   "source": [
    "#10. What is the data type of None?"
   ]
  },
  {
   "cell_type": "markdown",
   "id": "9c03d978",
   "metadata": {},
   "source": [
    "Ans. The data type of None is NoneType."
   ]
  },
  {
   "cell_type": "markdown",
   "id": "d8ed4b5a",
   "metadata": {},
   "source": [
    "#11. What does the sentence import areallyourpetsnamederic do?"
   ]
  },
  {
   "cell_type": "markdown",
   "id": "7199c01f",
   "metadata": {},
   "source": [
    "Ans. That import statement imports a module named areallyourpetsnamederic. (This isn't a real Python module, by the way.)"
   ]
  },
  {
   "cell_type": "markdown",
   "id": "70ff632d",
   "metadata": {},
   "source": [
    "#12. If you had a bacon() feature in a spam module, what would you call it after importing spam?"
   ]
  },
  {
   "cell_type": "markdown",
   "id": "f19cae0a",
   "metadata": {},
   "source": [
    "Ans. This function can be called with spam.bacon()."
   ]
  },
  {
   "cell_type": "markdown",
   "id": "1a2a825d",
   "metadata": {},
   "source": [
    "#13. What can you do to save a programme from crashing if it encounters an error?"
   ]
  },
  {
   "cell_type": "markdown",
   "id": "29664329",
   "metadata": {},
   "source": [
    "Ans.  We can use try except clause to save a program from crashing."
   ]
  },
  {
   "cell_type": "markdown",
   "id": "7462b105",
   "metadata": {},
   "source": [
    "#14. What is the purpose of the try clause? What is the purpose of the except clause?"
   ]
  },
  {
   "cell_type": "markdown",
   "id": "42133706",
   "metadata": {},
   "source": [
    "Ans. The try block is used to check some code for errors i.e the code inside the try block will execute when there is no error in the program. Whereas the code inside the except block will execute whenever the program encounters some error in the try block."
   ]
  }
 ],
 "metadata": {
  "kernelspec": {
   "display_name": "Python 3 (ipykernel)",
   "language": "python",
   "name": "python3"
  },
  "language_info": {
   "codemirror_mode": {
    "name": "ipython",
    "version": 3
   },
   "file_extension": ".py",
   "mimetype": "text/x-python",
   "name": "python",
   "nbconvert_exporter": "python",
   "pygments_lexer": "ipython3",
   "version": "3.9.12"
  }
 },
 "nbformat": 4,
 "nbformat_minor": 5
}
