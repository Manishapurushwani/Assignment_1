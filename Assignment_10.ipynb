{
 "cells": [
  {
   "cell_type": "markdown",
   "id": "5567e6ac",
   "metadata": {},
   "source": [
    "1. How do you distinguish between shutil.copy() and shutil.copytree()?"
   ]
  },
  {
   "cell_type": "markdown",
   "id": "bbbad21a",
   "metadata": {},
   "source": [
    "Ans. \"shutil.copy()\" will copy a single file.\"shutil.copytree()\" will copy an entire folder and every folder and file contained in it."
   ]
  },
  {
   "cell_type": "markdown",
   "id": "8e2289e3",
   "metadata": {},
   "source": [
    "2. What function is used to rename files??"
   ]
  },
  {
   "cell_type": "markdown",
   "id": "67e34a6f",
   "metadata": {},
   "source": [
    "Ans: os.rename() function is used to rename files or directories using a python program, this function takes two arguments src and dest, src represents the name file/directory which we want to rename, whereas dest represents the new name of the file/directory."
   ]
  },
  {
   "cell_type": "markdown",
   "id": "0a7d5c31",
   "metadata": {},
   "source": [
    "3. What is the difference between the delete functions in the send2trash and shutil modules?"
   ]
  },
  {
   "cell_type": "markdown",
   "id": "d2aa6065",
   "metadata": {},
   "source": [
    "Ans: Shutil module provides a funciton called as shutil.rmtree() which deletes a directory and all its contents. The other functions with similar functionality are os.remove() -> removes a file, os.rmdir() removes a empty directory. The problem with these functions is once a file is deleted. it will be lost permanently, if a file is deleted accidentally using these methods there is no way we can recover the deleted file\n",
    "\n",
    "Where as send2trash module provides a function called send2trash.send2trash() to delete a file/directory. these methods moves the files/directories to trash folder instead of permanently deleting them. hence if a file/folder is deleted accidentally it can be still recovered from trash folder, if is deleted using the send2trash.send2trash() function. send2trash is not included with python standard libary like os & shutil modules. it needs to be installed explicitly using the command !pip install send2trash"
   ]
  },
  {
   "cell_type": "markdown",
   "id": "9c759550",
   "metadata": {},
   "source": [
    "4. ZipFile objects have a close() method just like File objects’ close() method. What ZipFile method is equivalent to File objects’ open() method?"
   ]
  },
  {
   "cell_type": "markdown",
   "id": "f71ab84e",
   "metadata": {},
   "source": [
    "Ans: ZipFile Module provides a method called as zipfile.ZipFile() to read and write to zipFiles. it takes arugments lile filename and mode etc zipfile.ZipFile('filename', mode = 'r')"
   ]
  },
  {
   "cell_type": "markdown",
   "id": "2afb2fc5",
   "metadata": {},
   "source": [
    "5. Create a programme that searches a folder tree for files with a certain file extension (such as .pdf or .jpg). Copy these files from whatever location they are in to a new folder."
   ]
  },
  {
   "cell_type": "code",
   "execution_count": 1,
   "id": "ffc2f832",
   "metadata": {},
   "outputs": [
    {
     "name": "stdout",
     "output_type": "stream",
     "text": [
      "Folder Name ➞ C:\\Users\\Education\\Desktop\\Data Science Assignment\n",
      "\n",
      "Sub Folders ➞ []\n",
      "\n",
      "Files ➞ ['Assignment_1.docx', 'Assignment_1.ipynb', 'Assignment_10.docx', 'Assignment_11.docx', 'Assignment_12.docx', 'Assignment_13.docx', 'Assignment_14.docx', 'Assignment_15.docx', 'Assignment_16.docx', 'Assignment_17.docx', 'Assignment_18.docx', 'Assignment_19.docx', 'Assignment_2.docx', 'Assignment_2.ipynb', 'Assignment_20.docx', 'Assignment_21.docx', 'Assignment_22.docx', 'Assignment_23.docx', 'Assignment_24.docx', 'Assignment_25.docx', 'Assignment_3.docx', 'Assignment_3.ipynb', 'Assignment_4.docx', 'Assignment_4.ipynb', 'Assignment_5.docx', 'Assignment_5.ipynb', 'Assignment_6.docx', 'Assignment_6.ipynb', 'Assignment_7.docx', 'Assignment_7.ipynb', 'Assignment_8.docx', 'Assignment_8.ipynb', 'Assignment_9.docx', 'Programming_Assingment1.docx', 'Programming_Assingment10.docx', 'Programming_Assingment11.docx', 'Programming_Assingment12.docx', 'Programming_Assingment13.docx', 'Programming_Assingment14.docx', 'Programming_Assingment15.docx', 'Programming_Assingment16.docx', 'Programming_Assingment17.docx', 'Programming_Assingment18.docx', 'Programming_Assingment19.docx', 'Programming_Assingment2.docx', 'Programming_Assingment20.docx', 'Programming_Assingment21.docx', 'Programming_Assingment22.docx', 'Programming_Assingment23.docx', 'Programming_Assingment24.docx', 'Programming_Assingment25.docx', 'Programming_Assingment3.docx', 'Programming_Assingment4.docx', 'Programming_Assingment5.docx', 'Programming_Assingment6.docx', 'Programming_Assingment7.docx', 'Programming_Assingment8.docx', 'Programming_Assingment9.docx']\n",
      "\n",
      "Files copied successfully from C:\\Users\\Education\\Desktop\\Data Science Assignment to C:\\Users\\Education\\Desktop\\FSDS Assignments\n"
     ]
    }
   ],
   "source": [
    "import os\n",
    "import shutil\n",
    "\n",
    "def search_copy(source,destination,extensions):\n",
    "    source = os.path.abspath(source)\n",
    "    destination = os.path.abspath(destination)\n",
    "    for foldername, subfolder, filenames in os.walk(source):\n",
    "        print(f'Folder Name ➞ {foldername}',end='\\n\\n')\n",
    "        print(f'Sub Folders ➞ {subfolder}',end='\\n\\n')\n",
    "        print(f'Files ➞ {filenames}',end='\\n\\n')\n",
    "        for filename in filenames:\n",
    "            fileName,extension = os.path.splitext(filename)\n",
    "            if extension in extensions:\n",
    "                targetFile = foldername+os.path.sep+fileName+extension\n",
    "                shutil.copy(targetFile, destination)\n",
    "        print(f'Files copied successfully from {source} to {destination}')\n",
    "    \n",
    "extensions = ['.pdf','.jpg','.ipynb']\n",
    "source = 'C:/Users/Education/Desktop/Data Science Assignment'\n",
    "destination = 'C:/Users/Education/Desktop/FSDS Assignments'\n",
    "search_copy(source, destination, extensions)"
   ]
  },
  {
   "cell_type": "code",
   "execution_count": null,
   "id": "6c7b01a3",
   "metadata": {},
   "outputs": [],
   "source": []
  }
 ],
 "metadata": {
  "kernelspec": {
   "display_name": "Python 3 (ipykernel)",
   "language": "python",
   "name": "python3"
  },
  "language_info": {
   "codemirror_mode": {
    "name": "ipython",
    "version": 3
   },
   "file_extension": ".py",
   "mimetype": "text/x-python",
   "name": "python",
   "nbconvert_exporter": "python",
   "pygments_lexer": "ipython3",
   "version": "3.9.12"
  }
 },
 "nbformat": 4,
 "nbformat_minor": 5
}
