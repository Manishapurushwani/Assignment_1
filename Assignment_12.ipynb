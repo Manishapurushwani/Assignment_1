{
 "cells": [
  {
   "cell_type": "markdown",
   "id": "7f28cae8",
   "metadata": {},
   "source": [
    "1. In what modes should the PdfFileReader() and PdfFileWriter() File objects will be opened?"
   ]
  },
  {
   "cell_type": "markdown",
   "id": "4389d563",
   "metadata": {},
   "source": [
    "Ans: For PdfFileReader() file objects should be opened in rb - read binary mode, Whereas for PdfFileWriter() file objects should be opened in wb - write binary mode."
   ]
  },
  {
   "cell_type": "markdown",
   "id": "a6cf76b3",
   "metadata": {},
   "source": [
    "2. From a PdfFileReader object, how do you get a Page object for page 5?"
   ]
  },
  {
   "cell_type": "markdown",
   "id": "68af44d9",
   "metadata": {},
   "source": [
    "Ans. Calling getPage(4) will return a Page object for page 5 since page 0 is the first page"
   ]
  },
  {
   "cell_type": "markdown",
   "id": "6348274a",
   "metadata": {},
   "source": [
    "3. What PdfFileReader variable stores the number of pages in the PDF document?"
   ]
  },
  {
   "cell_type": "markdown",
   "id": "8b7bb9bd",
   "metadata": {},
   "source": [
    "Ans: getNumPages() method of PdfFileReader class stores the no pages in a PDF document"
   ]
  },
  {
   "cell_type": "markdown",
   "id": "67642cd1",
   "metadata": {},
   "source": [
    "4. If a PdfFileReader object’s PDF is encrypted with the password swordfish, what must you do before you can obtain Page objects from it?"
   ]
  },
  {
   "cell_type": "markdown",
   "id": "46938e5e",
   "metadata": {},
   "source": [
    "Ans: If a PdfFileReader object’s PDF is encrypted with the password swordfish and you're not aware of it. first read the Pdf using the PdfFileReader Class. PdfFileReader class provides a attribute called isEncrypted to check whether a pdf is encrypted or not. the method returns true if a pdf is encrypted and vice versa.\n",
    "if pdf is encrypted use the decrypt() method provided by PdfFileReader class first then try to read the contents/pages of the pdf, else PyPDF2 will raise the following error PyPDF2.utils.PdfReadError: file has not been decrypted"
   ]
  },
  {
   "cell_type": "code",
   "execution_count": 1,
   "id": "682ac611",
   "metadata": {},
   "outputs": [
    {
     "name": "stdout",
     "output_type": "stream",
     "text": [
      "Full Stack Data Science \n",
      "With 1 Year Internship\n",
      "JOB GUARANTEE PROGRAM\n",
      "\n",
      "What You'll Learn\n",
      "Python\n",
      "Stats\n",
      "Machine learning\n",
      "Deep learning\n",
      "Computer vision\n",
      "Natural language processing\n",
      "Data analyticsBig data\n",
      "Ml ops\n",
      "Cloud\n",
      "Data structure and algorithm\n",
      "Architecture\n",
      "Domain wise project\n",
      "Databases\n",
      "\n",
      "Service from iNeuron\n",
      "Live class for complete course \n",
      "Pre –recorded video for FastTrack after \n",
      "launch of course in 3 month \n",
      "All live class recordings \n",
      "All live class notes \n",
      "Mail support for doubt clearing \n",
      "Live doubt clearing session weekly\n",
      "Live doubt clearing after class Skype support for all 7 days except public \n",
      "holidays from morning 9 AM IST to night 2 AM \n",
      "IST for doubt clearing \n",
      "Quick response team for your interview \n",
      "preparation \n",
      "Lifetime content , dashboard and service \n",
      "access from iNeuron\n",
      "Profile building after every major module \n",
      "Project in every section \n",
      "Sample resume for all level \n",
      "\n",
      "Assignment in every module \n",
      "Remote Internship \n",
      "Questions for interview preparation Service from iNeuron\n",
      "\n",
      "Common questions \n",
      "Will I be able to make a transition if I am from non tech or non IT background ?\n",
      "Is there a sufficient number of jobs available in market for this profile ?\n",
      "Will I will able to get into an industry if I am fresher ?\n",
      "Will I be able to make a transition if I am a experienced person ?\n",
      "How I am suppose to prepare my profile if I am from non tech or non data science background ?\n",
      "Is it compulsory to know all the tech related to data science while preparing for transition ?\n",
      "Which company is hiring person in this area ?\n",
      "Will I be able to do internship if I am a working professional ?\n",
      "What are the platform where I can apply for data science job ?\n",
      "\n",
      "Common questions \n",
      "How much assignment ,projects I have to complete  for  job guarantee ?\n",
      "How much  time I have to spend for this course after class ?\n",
      "How I am suppose to prepare my profile for data science ?\n",
      "How I  can showcase my project and experience in data science ?\n",
      "How will be job market after sometime in data science ?\n",
      "Do I have to prepare for data structure and algorithm for  data science job?\n",
      "What kind of job I will be able to get in data science field ?\n",
      "What if I have a career gap ?\n",
      "How iNeuron will help us with interview preparation ?\n",
      "\n",
      "Common questions \n",
      "How much time it will take to complete this course ?\n",
      "I am from teaching background will I be able to make a transition into data science industry ?\n",
      "Will I be able to work with iNeuron team ?\n",
      "How much salary I will be able to get ?\n",
      "I am suppose to do master’s in data science of equivalent field ?\n",
      "How my previous experience   will be counted while  doing a transition ? \n",
      "Will I be considered as fresher if I have industry experience in different domain  ?\n",
      "How much experience I have to show case in my resume for data science ?\n",
      "How many project I have to showcase in my resume ?\n",
      "Will I be able to show iNeuron project in my profile ?\n",
      "\n",
      "Live Mock interview \n",
      "https://www.youtube.com/watch?v=FGjYeKSfLr4&list=PLZoTAELRMXVN4ypDZ4Qd0nfWR_I7xl368\n",
      "Success Story :\n",
      "https:// www.youtube.com/watch?v=eGltLHfGszU&list=PLZoTAELRMXVO5zRjBApoMgM5rc5KEzjJX\n",
      "https://www.youtube.com/watch?v=p78NEOskpmQ&list=PLmQAMKHKeLZ8QswAAWXXMC4LwmWk5ZTj _\n",
      "\n",
      "Syllabus :\n",
      "https:// ineuron.ai/home/coursedetail/full -stack -data -science -with -1-year -internship --117\n",
      "Sample resume :\n",
      "https:// github.com/iNeuronai/same -resume -year -wise\n",
      "Interview Questions :\n",
      "https:// github.com/iNeuronai/interview -question -data -science -\n",
      "\n",
      "Support channel from iNeuron\n",
      "For any query and quick interview response mail us @\n",
      "query@ineuron.ai\n",
      "live Skype support id :\n",
      "support@ineuron.ai\n",
      "timings : Morning 9 AM IST to night 2 AM IST (17 hour a day) all day \n",
      "Start Date: 20th February 2021\n",
      "Class Timings: 3 PM to 6 PM (IST) Saturday –Sunday ( After 6 doubt clearing in live class ) \n",
      "Doubt Clearing Session: 10 PM to 12 PM (IST) Wednesday\n",
      "\n"
     ]
    }
   ],
   "source": [
    "#Example Code:\n",
    "from PyPDF2 import PdfReader\n",
    "_file_ = 'C:/Users/Education/Desktop/iNeuron/Full Stack Data Science.pdf'\n",
    "pdf_reader = PdfReader(_file_)\n",
    "if pdf_reader.is_encrypted: # to check whether the pdf is encrypted or not\n",
    "    pdf_reader.decrypt(\"swordfish\")\n",
    "for page in pdf_reader.pages:\n",
    "    print(page.extract_text()) # to print the text data of a page from pdf"
   ]
  },
  {
   "cell_type": "markdown",
   "id": "aed9c366",
   "metadata": {},
   "source": [
    "5. What methods do you use to rotate a page?"
   ]
  },
  {
   "cell_type": "markdown",
   "id": "0a60ee78",
   "metadata": {},
   "source": [
    "Ans: PyPDF2 Package provides 2 methods to rotate a page:\n",
    "\n",
    "rotateClockWise() -> For Clockwise rotation\n",
    "\n",
    "rotateCounterClockWise() -> For Counter Clockwise rotation\n",
    "\n",
    "The PyPDF2 package only allows you to rotate a page in increments of 90 degrees. You will receive an AssertionError otherwise."
   ]
  },
  {
   "cell_type": "markdown",
   "id": "f617e960",
   "metadata": {},
   "source": [
    "6. What is the difference between a Run object and a Paragraph object?"
   ]
  },
  {
   "cell_type": "markdown",
   "id": "68445677",
   "metadata": {},
   "source": [
    "Paragraph Object : A document contains multiple paragraphs. A paragraph begins on a new line and contains multiple runs. The Document object contains a list of Paragraph objects for the paragraphs in the document. (A new paragraph begins whenever the user presses ENTER or RETURN while typing in a Word document.)\n",
    "\n",
    "Run Objects : Runs are contiguous groups of characters within a paragraph with the same style"
   ]
  },
  {
   "cell_type": "markdown",
   "id": "a0273685",
   "metadata": {},
   "source": [
    "7. How do you obtain a list of Paragraph objects for a Document object that’s stored in a variable named doc?"
   ]
  },
  {
   "cell_type": "code",
   "execution_count": 2,
   "id": "02d466c7",
   "metadata": {},
   "outputs": [
    {
     "name": "stdout",
     "output_type": "stream",
     "text": [
      "[<docx.text.paragraph.Paragraph object at 0x00000248CA6999D0>, <docx.text.paragraph.Paragraph object at 0x00000248CA699A60>, <docx.text.paragraph.Paragraph object at 0x00000248CA699A30>, <docx.text.paragraph.Paragraph object at 0x00000248CA699B20>, <docx.text.paragraph.Paragraph object at 0x00000248CA699B80>, <docx.text.paragraph.Paragraph object at 0x00000248CA699D30>, <docx.text.paragraph.Paragraph object at 0x00000248CA699C10>, <docx.text.paragraph.Paragraph object at 0x00000248CA699DF0>, <docx.text.paragraph.Paragraph object at 0x00000248CA699CD0>, <docx.text.paragraph.Paragraph object at 0x00000248CA699EB0>, <docx.text.paragraph.Paragraph object at 0x00000248CA699D90>, <docx.text.paragraph.Paragraph object at 0x00000248CA699F70>, <docx.text.paragraph.Paragraph object at 0x00000248CA699E50>, <docx.text.paragraph.Paragraph object at 0x00000248CA699FD0>, <docx.text.paragraph.Paragraph object at 0x00000248CA699F40>, <docx.text.paragraph.Paragraph object at 0x00000248CA2A6B20>, <docx.text.paragraph.Paragraph object at 0x00000248CA687820>, <docx.text.paragraph.Paragraph object at 0x00000248CA690160>, <docx.text.paragraph.Paragraph object at 0x00000248CA6900A0>, <docx.text.paragraph.Paragraph object at 0x00000248CA690190>, <docx.text.paragraph.Paragraph object at 0x00000248CA6AF160>, <docx.text.paragraph.Paragraph object at 0x00000248CA6AF0D0>, <docx.text.paragraph.Paragraph object at 0x00000248CA6AF250>, <docx.text.paragraph.Paragraph object at 0x00000248CA6AF130>, <docx.text.paragraph.Paragraph object at 0x00000248CA6AFA30>, <docx.text.paragraph.Paragraph object at 0x00000248CA6AFA90>, <docx.text.paragraph.Paragraph object at 0x00000248CA6AFAF0>, <docx.text.paragraph.Paragraph object at 0x00000248CA6AFB50>, <docx.text.paragraph.Paragraph object at 0x00000248CA6AFBB0>]\n",
      "1. In the below elements which of them are values or an expression? eg:- values can be integer or string and expressions will be mathematical operators.\n",
      "* \n",
      "'hello'\n",
      "-87.8\n",
      "- \n",
      "/ \n",
      "\n",
      "6 \n",
      "\n",
      "2. What is the difference between string and variable?\n",
      "\n",
      "3. Describe three different data types.\n",
      "\n",
      "4. What is an expression made up of? What do all expressions do?\n",
      "5. This assignment statements, like spam = 10. What is the difference between an expression and a statement?\n",
      "6. After running the following code, what does the variable bacon contain?\n",
      "bacon = 22\n",
      "bacon + 1\n",
      "\n",
      "7. What should the values of the following two terms be?\n",
      "'spam' + 'spamspam'\n",
      "'spam' * 3\n",
      "\n",
      "8. Why is eggs a valid variable name while 100 is invalid?\n",
      "9. What three functions can be used to get the integer, floating-point number, or string version of a value?\n",
      "10. Why does this expression cause an error? How can you fix it?\n",
      "'I have eaten ' + 99 + ' burritos.'\n",
      "\n",
      "\n"
     ]
    }
   ],
   "source": [
    "# Example Program\n",
    "from docx import Document\n",
    "doc = Document(\"C:/Users/Education/Desktop/Data Science Assignment/Assignment_1.docx\") # Path of the Docx file\n",
    "print(doc.paragraphs) # Prints the list of Paragraph objects for a Document\n",
    "for paragraph in doc.paragraphs:\n",
    "    print(paragraph.text) # Prints the text in the paragraph"
   ]
  },
  {
   "cell_type": "markdown",
   "id": "b46b9326",
   "metadata": {},
   "source": [
    "8. What type of object has bold, underline, italic, strike, and outline variables?"
   ]
  },
  {
   "cell_type": "markdown",
   "id": "ebb9b3e8",
   "metadata": {},
   "source": [
    "Ans. A Run object has bold, underline,italic,strike and outline variables"
   ]
  },
  {
   "cell_type": "markdown",
   "id": "4d00e917",
   "metadata": {},
   "source": [
    "9. What is the difference between False, True, and None for the bold variable?"
   ]
  },
  {
   "cell_type": "code",
   "execution_count": 33,
   "id": "7c161c3e",
   "metadata": {},
   "outputs": [],
   "source": [
    "bold = True  # Style Set to Bold\n",
    "bold = False # Style Not Set to Bold\n",
    "bold = None # Style is Not Applicable"
   ]
  },
  {
   "cell_type": "markdown",
   "id": "383297cb",
   "metadata": {},
   "source": [
    "10. How do you create a Document object for a new Word document?"
   ]
  },
  {
   "cell_type": "code",
   "execution_count": 39,
   "id": "af860e77",
   "metadata": {},
   "outputs": [],
   "source": [
    "# Example Program\n",
    "import docx\n",
    "from docx import Document\n",
    "document = docx.Document()\n",
    "document.add_paragraph(\"iNeuron Full Stack DataScience Course\")\n",
    "document.save('mydocument.docx')"
   ]
  },
  {
   "cell_type": "markdown",
   "id": "81caf81e",
   "metadata": {},
   "source": [
    "11. How do you add a paragraph with the text 'Hello, there!' to a Document object stored in a variable named doc?"
   ]
  },
  {
   "cell_type": "code",
   "execution_count": 40,
   "id": "26e38fdc",
   "metadata": {},
   "outputs": [],
   "source": [
    "import docx\n",
    "doc = docx.Document()\n",
    "doc.add_paragraph('Hello there!')\n",
    "doc.save('hellothere.docx')"
   ]
  },
  {
   "cell_type": "markdown",
   "id": "2eeeb724",
   "metadata": {},
   "source": [
    "12. What integers represent the levels of headings available in Word documents?"
   ]
  },
  {
   "cell_type": "markdown",
   "id": "0330873a",
   "metadata": {},
   "source": [
    "Ans. integer from 0 to 4\n",
    "\n",
    "The arguments to add_heading() are a string of the heading text and an integer from 0 to 4. The integer 0 makes the heading the Title style, which is used for the top of the document. Integers 1 to 4 are for various heading levels, with 1 being the main heading and 4 the lowest subheading"
   ]
  }
 ],
 "metadata": {
  "kernelspec": {
   "display_name": "Python 3 (ipykernel)",
   "language": "python",
   "name": "python3"
  },
  "language_info": {
   "codemirror_mode": {
    "name": "ipython",
    "version": 3
   },
   "file_extension": ".py",
   "mimetype": "text/x-python",
   "name": "python",
   "nbconvert_exporter": "python",
   "pygments_lexer": "ipython3",
   "version": "3.9.12"
  }
 },
 "nbformat": 4,
 "nbformat_minor": 5
}
