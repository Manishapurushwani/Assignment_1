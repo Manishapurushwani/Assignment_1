{
 "cells": [
  {
   "cell_type": "markdown",
   "id": "aea64140",
   "metadata": {},
   "source": [
    "#1.What are the two values of the Boolean data type? How do you write them?"
   ]
  },
  {
   "cell_type": "markdown",
   "id": "620f152b",
   "metadata": {},
   "source": [
    "True and False\n",
    "\n",
    "Using capital T and F, with the rest of the word in lowercase."
   ]
  },
  {
   "cell_type": "markdown",
   "id": "a34b8f55",
   "metadata": {},
   "source": [
    "#2. What are the three different types of Boolean operators?"
   ]
  },
  {
   "cell_type": "markdown",
   "id": "0fa23526",
   "metadata": {},
   "source": [
    "1. and\n",
    "\n",
    "2. or\n",
    "\n",
    "3. not"
   ]
  },
  {
   "cell_type": "markdown",
   "id": "8c1d1bfd",
   "metadata": {},
   "source": [
    "#3. Make a list of each Boolean operator's truth tables (i.e. every possible combination of Boolean\n",
    "values for the operator and what it evaluate )."
   ]
  },
  {
   "cell_type": "markdown",
   "id": "7a86ce7e",
   "metadata": {},
   "source": [
    "True and True = True.\n",
    "\n",
    "True and False = False.\n",
    "\n",
    "False and True = False.\n",
    "\n",
    "False and False = False.\n",
    "\n",
    "True or True = True.\n",
    "\n",
    "True or False = True.\n",
    "\n",
    "False or True = True.\n",
    "\n",
    "False or False = False.\n",
    "\n",
    "not True = False.\n",
    "\n",
    "not False = True."
   ]
  },
  {
   "cell_type": "markdown",
   "id": "8f03c4f2",
   "metadata": {},
   "source": [
    "#4. What are the values of the following expressions?\n",
    "\n",
    "(5 > 4) and (3 == 5)\n",
    "\n",
    "not (5 > 4)\n",
    "\n",
    "(5 > 4) or (3 == 5)\n",
    "\n",
    "not ((5 > 4) or (3 == 5))\n",
    "\n",
    "(True and True) and (True == False)\n",
    "\n",
    "(not False) or (not True)"
   ]
  },
  {
   "cell_type": "code",
   "execution_count": 1,
   "id": "416c4793",
   "metadata": {},
   "outputs": [
    {
     "data": {
      "text/plain": [
       "True"
      ]
     },
     "execution_count": 1,
     "metadata": {},
     "output_type": "execute_result"
    }
   ],
   "source": [
    "5 > 4"
   ]
  },
  {
   "cell_type": "code",
   "execution_count": 2,
   "id": "22b60934",
   "metadata": {},
   "outputs": [
    {
     "data": {
      "text/plain": [
       "False"
      ]
     },
     "execution_count": 2,
     "metadata": {},
     "output_type": "execute_result"
    }
   ],
   "source": [
    "3 == 5"
   ]
  },
  {
   "cell_type": "code",
   "execution_count": 3,
   "id": "50ba1498",
   "metadata": {},
   "outputs": [
    {
     "data": {
      "text/plain": [
       "False"
      ]
     },
     "execution_count": 3,
     "metadata": {},
     "output_type": "execute_result"
    }
   ],
   "source": [
    "not(5 > 4)"
   ]
  },
  {
   "cell_type": "code",
   "execution_count": 4,
   "id": "18048654",
   "metadata": {},
   "outputs": [
    {
     "data": {
      "text/plain": [
       "True"
      ]
     },
     "execution_count": 4,
     "metadata": {},
     "output_type": "execute_result"
    }
   ],
   "source": [
    "(5 > 4) or (3 == 5)"
   ]
  },
  {
   "cell_type": "code",
   "execution_count": 5,
   "id": "00608d44",
   "metadata": {},
   "outputs": [
    {
     "data": {
      "text/plain": [
       "False"
      ]
     },
     "execution_count": 5,
     "metadata": {},
     "output_type": "execute_result"
    }
   ],
   "source": [
    "not ((5 > 4) or (3 == 5))"
   ]
  },
  {
   "cell_type": "code",
   "execution_count": 6,
   "id": "a26781e7",
   "metadata": {},
   "outputs": [
    {
     "data": {
      "text/plain": [
       "False"
      ]
     },
     "execution_count": 6,
     "metadata": {},
     "output_type": "execute_result"
    }
   ],
   "source": [
    "(True and True) and (True == False)"
   ]
  },
  {
   "cell_type": "code",
   "execution_count": 7,
   "id": "0ba7644e",
   "metadata": {},
   "outputs": [
    {
     "data": {
      "text/plain": [
       "True"
      ]
     },
     "execution_count": 7,
     "metadata": {},
     "output_type": "execute_result"
    }
   ],
   "source": [
    "(not False) or (not True)"
   ]
  },
  {
   "cell_type": "markdown",
   "id": "bf63c2a0",
   "metadata": {},
   "source": [
    "#5. What are the six comparison operators?"
   ]
  },
  {
   "cell_type": "markdown",
   "id": "a6fe4ca9",
   "metadata": {},
   "source": [
    "< , > , <= , >= , == , !="
   ]
  },
  {
   "cell_type": "markdown",
   "id": "b298704f",
   "metadata": {},
   "source": [
    "#6. How do you tell the difference between the equal to and assignment operators?Describe a\n",
    "condition and when you would use one."
   ]
  },
  {
   "cell_type": "markdown",
   "id": "684e097e",
   "metadata": {},
   "source": [
    "The “=” is an assignment operator used to assign the value on the right to the variable on the left. \n",
    "The ‘==’ operator checks whether the two given operands are equal or not. If so, it returns true. Otherwise it returns false. \n",
    "\n",
    "The condition is if statement where we use == operator."
   ]
  },
  {
   "cell_type": "markdown",
   "id": "26e5288d",
   "metadata": {},
   "source": [
    "#7. Identify the three blocks in this code:\n",
    "    \n",
    "spam = 0\n",
    "\n",
    "if spam == 10:\n",
    "\n",
    "print('eggs')\n",
    "\n",
    "if spam > 5:\n",
    "      \n",
    "print('bacon')\n",
    "\n",
    "else:\n",
    "\n",
    "print('ham')\n",
    "\n",
    "print('spam')\n",
    "\n",
    "print('spam')"
   ]
  },
  {
   "cell_type": "code",
   "execution_count": 8,
   "id": "8653303a",
   "metadata": {},
   "outputs": [
    {
     "name": "stdout",
     "output_type": "stream",
     "text": [
      "ham\n",
      "spam\n",
      "spam\n"
     ]
    }
   ],
   "source": [
    "spam = 0\n",
    "if spam == 10:\n",
    "    print('eggs')\n",
    "if spam > 5:\n",
    "    print('bacon')\n",
    "else:\n",
    "    print('ham')\n",
    "    print('spam')\n",
    "    print('spam')"
   ]
  },
  {
   "cell_type": "markdown",
   "id": "bab1ba63",
   "metadata": {},
   "source": [
    "There is three block, first and second is if block and last one is else block."
   ]
  },
  {
   "cell_type": "markdown",
   "id": "bb3c503c",
   "metadata": {},
   "source": [
    "#8. Write code that prints Hello if 1 is stored in spam, prints Howdy if 2 is stored in spam, and prints\n",
    "Greetings! if anything else is stored in spam."
   ]
  },
  {
   "cell_type": "code",
   "execution_count": 9,
   "id": "fa359136",
   "metadata": {},
   "outputs": [
    {
     "name": "stdout",
     "output_type": "stream",
     "text": [
      "Greetings!\n"
     ]
    }
   ],
   "source": [
    "if spam == 1:\n",
    "    print('Hello')\n",
    "elif spam == 2:\n",
    "    print('Howdy')\n",
    "else:\n",
    "    print('Greetings!')"
   ]
  },
  {
   "cell_type": "markdown",
   "id": "392ef878",
   "metadata": {},
   "source": [
    "#9.If your programme is stuck in an endless loop, what keys you’ll press?"
   ]
  },
  {
   "cell_type": "markdown",
   "id": "4e57409c",
   "metadata": {},
   "source": [
    "press ctrl - c"
   ]
  },
  {
   "cell_type": "markdown",
   "id": "f7a15226",
   "metadata": {},
   "source": [
    "#10. How can you tell the difference between break and continue?"
   ]
  },
  {
   "cell_type": "markdown",
   "id": "efdbf8b8",
   "metadata": {},
   "source": [
    "A break statement is used to terminate the loop whenever a particular condition is satisfied.\n",
    "\n",
    "The continue statement skips the code that comes after it, and the control is passed back to the start for the next iteration.\n",
    "\n",
    "\"The main difference between break and continue statement is that when break keyword is encountered, it will exit the loop.\n",
    "\n",
    "In case of continue keyword, the current iteration that is running will be stopped, and it will proceed with the next iteration\"."
   ]
  },
  {
   "cell_type": "markdown",
   "id": "23546e55",
   "metadata": {},
   "source": [
    "#11. In a for loop, what is the difference between range(10), range(0, 10), and range(0, 10, 1)?"
   ]
  },
  {
   "cell_type": "markdown",
   "id": "99b6cf0b",
   "metadata": {},
   "source": [
    "In a for loop there is no diffrence between range(10), range(0,10) , and range(0,10,1), all are gives same result."
   ]
  },
  {
   "cell_type": "markdown",
   "id": "27cd6eed",
   "metadata": {},
   "source": [
    "#12. Write a short program that prints the numbers 1 to 10 using a for loop. Then write an equivalent\n",
    "program that prints the numbers 1 to 10 using a while loop."
   ]
  },
  {
   "cell_type": "code",
   "execution_count": 10,
   "id": "0f4ef607",
   "metadata": {},
   "outputs": [
    {
     "name": "stdout",
     "output_type": "stream",
     "text": [
      "1\n",
      "2\n",
      "3\n",
      "4\n",
      "5\n",
      "6\n",
      "7\n",
      "8\n",
      "9\n",
      "10\n"
     ]
    }
   ],
   "source": [
    "for i in range(1,11):\n",
    "    print(i)"
   ]
  },
  {
   "cell_type": "code",
   "execution_count": 11,
   "id": "10deff45",
   "metadata": {},
   "outputs": [
    {
     "name": "stdout",
     "output_type": "stream",
     "text": [
      "1\n",
      "2\n",
      "3\n",
      "4\n",
      "5\n",
      "6\n",
      "7\n",
      "8\n",
      "9\n",
      "10\n"
     ]
    }
   ],
   "source": [
    "a = 1\n",
    "while a <= 10:\n",
    "    print(a)\n",
    "    a = a+1"
   ]
  },
  {
   "cell_type": "markdown",
   "id": "73b5f3d6",
   "metadata": {},
   "source": [
    "#13. If you had a function named bacon() inside a module named spam, how would you call it after\n",
    "importing spam?"
   ]
  },
  {
   "cell_type": "markdown",
   "id": "4bf8dcd7",
   "metadata": {},
   "source": [
    "spam.bacon()"
   ]
  }
 ],
 "metadata": {
  "kernelspec": {
   "display_name": "Python 3 (ipykernel)",
   "language": "python",
   "name": "python3"
  },
  "language_info": {
   "codemirror_mode": {
    "name": "ipython",
    "version": 3
   },
   "file_extension": ".py",
   "mimetype": "text/x-python",
   "name": "python",
   "nbconvert_exporter": "python",
   "pygments_lexer": "ipython3",
   "version": "3.9.12"
  }
 },
 "nbformat": 4,
 "nbformat_minor": 5
}
