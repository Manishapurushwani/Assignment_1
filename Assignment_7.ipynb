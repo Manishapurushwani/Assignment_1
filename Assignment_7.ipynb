{
 "cells": [
  {
   "cell_type": "markdown",
   "id": "5c5f7998",
   "metadata": {},
   "source": [
    "1. What is the name of the feature responsible for generating Regex objects?"
   ]
  },
  {
   "cell_type": "markdown",
   "id": "57d65ae9",
   "metadata": {},
   "source": [
    "Ans: The name of the feature responsible for generating Regex objects is re.compile( ) function which returns Regex objects."
   ]
  },
  {
   "cell_type": "code",
   "execution_count": 1,
   "id": "9b92c4b5",
   "metadata": {},
   "outputs": [
    {
     "name": "stdout",
     "output_type": "stream",
     "text": [
      "re.compile('string')\n"
     ]
    }
   ],
   "source": [
    "import re\n",
    "a = re.compile(\"string\")\n",
    "print(a)"
   ]
  },
  {
   "cell_type": "markdown",
   "id": "d0a275cc",
   "metadata": {},
   "source": [
    "2. Why do raw strings often appear in Regex objects?"
   ]
  },
  {
   "cell_type": "markdown",
   "id": "43990e4b",
   "metadata": {},
   "source": [
    "Ans. Raw strings are used so that backslashes do not have to be escaped"
   ]
  },
  {
   "cell_type": "markdown",
   "id": "1e41b6b4",
   "metadata": {},
   "source": [
    "3. What is the return value of the search() method?"
   ]
  },
  {
   "cell_type": "markdown",
   "id": "cac04d0e",
   "metadata": {},
   "source": [
    "Ans. The search() method returns  a Match object if there is a match anywhere in the string otherwise it returns None."
   ]
  },
  {
   "cell_type": "markdown",
   "id": "39fbe2c4",
   "metadata": {},
   "source": [
    "4. From a Match item, how do you get the actual strings that match the pattern?"
   ]
  },
  {
   "cell_type": "markdown",
   "id": "1faeb446",
   "metadata": {},
   "source": [
    "Ans. The group() method returns actual strings that match the pattern."
   ]
  },
  {
   "cell_type": "markdown",
   "id": "137e0d3e",
   "metadata": {},
   "source": [
    "5. In the regex which created from the r'(\\d\\d\\d)-(\\d\\d\\d-\\d\\d\\d\\d)', what does group zero cover? Group 2? Group 1?"
   ]
  },
  {
   "cell_type": "markdown",
   "id": "c2b79bc3",
   "metadata": {},
   "source": [
    "Ans.  In the Regex r'(\\d\\d\\d)-(\\d\\d\\d-\\d\\d\\d\\d)' the zero group covers the entire pattern match where as the first group cover (\\d\\d\\d) and the second group cover (\\d\\d\\d-\\d\\d\\d\\d)"
   ]
  },
  {
   "cell_type": "markdown",
   "id": "b574c5a3",
   "metadata": {},
   "source": [
    "6. In standard expression syntax, parentheses and intervals have distinct meanings. How can you tell a regex that you want it to fit real parentheses and periods?"
   ]
  },
  {
   "cell_type": "markdown",
   "id": "c59e5378",
   "metadata": {},
   "source": [
    "Ans. Periods and parentheses can be escaped with a backslash: \\., \\( , an d\\)."
   ]
  },
  {
   "cell_type": "markdown",
   "id": "507caa99",
   "metadata": {},
   "source": [
    "7. The findall() method returns a string list or a list of string tuples. What causes it to return one of the two options?"
   ]
  },
  {
   "cell_type": "markdown",
   "id": "e007ac73",
   "metadata": {},
   "source": [
    "Ans. If the regex has no groups, a list of strings is returned. If the regex has groups, a list of tuples of strings is returned."
   ]
  },
  {
   "cell_type": "markdown",
   "id": "fc4bda5b",
   "metadata": {},
   "source": [
    "8. In standard expressions, what does the | character mean?"
   ]
  },
  {
   "cell_type": "markdown",
   "id": "5836e0bf",
   "metadata": {},
   "source": [
    "Ans. In Standard Expressions | means OR operator."
   ]
  },
  {
   "cell_type": "markdown",
   "id": "7655a231",
   "metadata": {},
   "source": [
    "9. In regular expressions, what does the ? character stand for?"
   ]
  },
  {
   "cell_type": "markdown",
   "id": "215d0704",
   "metadata": {},
   "source": [
    "Ans. In regular Expressions, ? characters represents zero or one match of the preceeding group."
   ]
  },
  {
   "cell_type": "markdown",
   "id": "667b7224",
   "metadata": {},
   "source": [
    "10. In regular expressions, what is the difference between the + and * characters?"
   ]
  },
  {
   "cell_type": "markdown",
   "id": "72eaf5e4",
   "metadata": {},
   "source": [
    "Ans. In Regular Expressions, * Represents Zero ore more occurances of the preceeding group, whereas + represents one or more occurances of the preceeding group."
   ]
  },
  {
   "cell_type": "markdown",
   "id": "1cb98692",
   "metadata": {},
   "source": [
    "11. What is the difference between {4} and {4,5} in regular expression?"
   ]
  },
  {
   "cell_type": "markdown",
   "id": "01267079",
   "metadata": {},
   "source": [
    "Ans: {4} means that its preceeding group should repeat 4 times. where as {4,5} means that its preceeding group should repeat mininum 4 times and maximum 5 times inclusively"
   ]
  },
  {
   "cell_type": "markdown",
   "id": "4170673e",
   "metadata": {},
   "source": [
    "12. What do you mean by the \\d, \\w, and \\s shorthand character classes signify in regular expressions?"
   ]
  },
  {
   "cell_type": "markdown",
   "id": "7ab54023",
   "metadata": {},
   "source": [
    "Ans. The \\d, stands for single digit, Any numeric digit from 0 to 9.\n",
    "\n",
    "\\w, stands for single word, Any letter, numeric digit, or the underscore character.\n",
    "\n",
    "\\s stands for single space character, Any space, tab, or newline character."
   ]
  },
  {
   "cell_type": "markdown",
   "id": "0e32d633",
   "metadata": {},
   "source": [
    "13. What do means by \\D, \\W, and \\S shorthand character classes signify in regular expressions?"
   ]
  },
  {
   "cell_type": "markdown",
   "id": "3950f77d",
   "metadata": {},
   "source": [
    "Ans. \\D - Any character that is not a numeric digit from 0 to 9.\n",
    "\n",
    "\\W - Any character that is not a letter, numeric digit, or the underscore character.\n",
    "\n",
    "\\S - Any character that is not a space, tab, or newline."
   ]
  },
  {
   "cell_type": "markdown",
   "id": "5de02626",
   "metadata": {},
   "source": [
    "14. What is the difference between .? and .?"
   ]
  },
  {
   "cell_type": "markdown",
   "id": "99383b4b",
   "metadata": {},
   "source": [
    "Ans: .* is a Greedy mode, which returns the longest string that meets the condition. Whereas .*? is a non greedy mode which returns the shortest string that meets the condition"
   ]
  },
  {
   "cell_type": "markdown",
   "id": "9d921f4d",
   "metadata": {},
   "source": [
    "15. What is the syntax for matching both numbers and lowercase letters with a character class?"
   ]
  },
  {
   "cell_type": "markdown",
   "id": "03af162b",
   "metadata": {},
   "source": [
    "Ans. Either [0-9a-z] or [a-z0-9]"
   ]
  },
  {
   "cell_type": "markdown",
   "id": "ddb15c8f",
   "metadata": {},
   "source": [
    "16. What is the procedure for making a normal expression in regax case insensitive?"
   ]
  },
  {
   "cell_type": "markdown",
   "id": "b978920a",
   "metadata": {},
   "source": [
    "Ans. Passing re.I or re.IGNORECASE as the second argument to re.compile() will make the matching case insensitive."
   ]
  },
  {
   "cell_type": "markdown",
   "id": "0b60b4c0",
   "metadata": {},
   "source": [
    "17. What does the . character normally match? What does it match if re.DOTALL is passed as 2nd argument in re.compile()?"
   ]
  },
  {
   "cell_type": "markdown",
   "id": "ed66684d",
   "metadata": {},
   "source": [
    "Ans. The . character normally matches any character except the newline character. If re.DOTALL is passed as the second argument to re.compile(), then the dot will match all characters, including the newline character.."
   ]
  },
  {
   "cell_type": "markdown",
   "id": "98caa6dd",
   "metadata": {},
   "source": [
    "18. If numReg = re.compile(r'\\d+'), what will numRegex.sub('X', '11 drummers, 10 pipers, five rings, 4 hen') return?"
   ]
  },
  {
   "cell_type": "code",
   "execution_count": 2,
   "id": "7829718f",
   "metadata": {},
   "outputs": [
    {
     "data": {
      "text/plain": [
       "'X drummers, X pipers, five rings, X hen'"
      ]
     },
     "execution_count": 2,
     "metadata": {},
     "output_type": "execute_result"
    }
   ],
   "source": [
    "import re\n",
    "numReg = re.compile(r'\\d+')\n",
    "numReg.sub('X', '11 drummers, 10 pipers, five rings, 4 hen')"
   ]
  },
  {
   "cell_type": "markdown",
   "id": "85047431",
   "metadata": {},
   "source": [
    "19. What does passing re.VERBOSE as the 2nd argument to re.compile() allow to do?"
   ]
  },
  {
   "cell_type": "markdown",
   "id": "eddf1f16",
   "metadata": {},
   "source": [
    "Ans. The re.VERBOSE argument allows you to add whitespace and comments to the string passed to re.compile()."
   ]
  },
  {
   "cell_type": "markdown",
   "id": "18819a96",
   "metadata": {},
   "source": [
    "20. How would you write a regex that match a number with comma for every three digits? It must match the given following:\n",
    "\n",
    "'42'\n",
    "\n",
    "'1,234'\n",
    "\n",
    "'6,368,745'\n",
    "\n",
    "but not the following:\n",
    "\n",
    "'12,34,567' (which has only two digits between the commas)\n",
    "\n",
    "'1234' (which lacks commas)"
   ]
  },
  {
   "cell_type": "code",
   "execution_count": 3,
   "id": "fc64206a",
   "metadata": {},
   "outputs": [
    {
     "name": "stdout",
     "output_type": "stream",
     "text": [
      "42 : <re.Match object; span=(0, 2), match='42'>\n",
      "1,234 : <re.Match object; span=(0, 5), match='1,234'>\n",
      "6,368,745 : <re.Match object; span=(0, 9), match='6,368,745'>\n",
      "12,34,567 : None\n",
      "1234 : None\n"
     ]
    }
   ],
   "source": [
    "import re\n",
    "s = re.compile(r'^\\d{1,3}(,\\d{3})*$')\n",
    "for num in ['42','1,234', '6,368,745','12,34,567','1234']:\n",
    "    print(num, ':', s.search(num))"
   ]
  },
  {
   "cell_type": "markdown",
   "id": "97dd924f",
   "metadata": {},
   "source": [
    "21. How would you write a regex that matches the full name of someone whose last name is Watanabe? You can assume that the first name that comes before it will always be one word that begins with a capital letter. The regex must match the following:\n",
    "\n",
    "'Haruto Watanabe'\n",
    "\n",
    "'Alice Watanabe'\n",
    "\n",
    "'RoboCop Watanabe'\n",
    "\n",
    "but not the following:\n",
    "\n",
    "'haruto Watanabe' (where the first name is not capitalized)\n",
    "\n",
    "'Mr. Watanabe' (where the preceding word has a nonletter character)\n",
    "\n",
    "'Watanabe' (which has no first name)\n",
    "\n",
    "'Haruto watanabe' (where Watanabe is not capitalized)"
   ]
  },
  {
   "cell_type": "code",
   "execution_count": 4,
   "id": "6096b949",
   "metadata": {},
   "outputs": [
    {
     "name": "stdout",
     "output_type": "stream",
     "text": [
      "Haruto Watanabe - <re.Match object; span=(0, 15), match='Haruto Watanabe'>\n",
      "Alice Watanabe - <re.Match object; span=(0, 14), match='Alice Watanabe'>\n",
      "RoboCop Watanabe - <re.Match object; span=(4, 16), match='Cop Watanabe'>\n",
      "haruto Watanabe - None\n",
      "Mr. Watanabe - None\n",
      "Watanabe - None\n",
      "Haruto watanabe - None\n"
     ]
    }
   ],
   "source": [
    "import re\n",
    "s = re.compile(r'[A-Z]{1}[a-z]*\\sWatanabe')\n",
    "for name in ['Haruto Watanabe','Alice Watanabe','RoboCop Watanabe','haruto Watanabe','Mr. Watanabe','Watanabe','Haruto watanabe']:\n",
    "    print(name,'-',s.search(name))"
   ]
  },
  {
   "cell_type": "markdown",
   "id": "083f8bd8",
   "metadata": {},
   "source": [
    "22. How would you write a regex that matches a sentence where the first word is either Alice, Bob, or Carol; the second word is either eats, pets, or throws; the third word is apples, cats, or baseballs; and the sentence ends with a period? This regex should be case-insensitive. It must match the following:\n",
    "\n",
    "'Alice eats apples.'\n",
    "\n",
    "'Bob pets cats.'\n",
    "\n",
    "'Carol throws baseballs.'\n",
    "\n",
    "'Alice throws Apples.'\n",
    "\n",
    "'BOB EATS CATS.'\n",
    "\n",
    "but not the following:\n",
    "\n",
    "'RoboCop eats apples.'\n",
    "\n",
    "'ALICE THROWS FOOTBALLS.'\n",
    "\n",
    "'Carol eats 7 cats.'"
   ]
  },
  {
   "cell_type": "markdown",
   "id": "04cf1b0e",
   "metadata": {},
   "source": [
    "Ans. re.compile(r'(Alice|Bob|Carol)\\s(eats|pets|throws)\\s(apples|cats|baseballs).', re.IGNORECASE)"
   ]
  },
  {
   "cell_type": "code",
   "execution_count": 5,
   "id": "f7596a11",
   "metadata": {},
   "outputs": [
    {
     "name": "stdout",
     "output_type": "stream",
     "text": [
      "Alice eats apples. - <re.Match object; span=(0, 18), match='Alice eats apples.'>\n",
      "Bob pets cats. - <re.Match object; span=(0, 14), match='Bob pets cats.'>\n",
      "Carol throws baseballs. - <re.Match object; span=(0, 23), match='Carol throws baseballs.'>\n",
      "Alice throws Apples. - <re.Match object; span=(0, 20), match='Alice throws Apples.'>\n",
      "BOB EATS CATS. - <re.Match object; span=(0, 14), match='BOB EATS CATS.'>\n",
      "RoboCop eats apples. - None\n",
      "ALICE THROWS FOOTBALLS. - None\n",
      "Carol eats 7 cats. - None\n"
     ]
    }
   ],
   "source": [
    "import re\n",
    "s = re.compile(r'(Alice|Bob|Carol)\\s(eats|pets|throws)\\s(apples|cats|baseballs).', re.IGNORECASE)\n",
    "for ele in ['Alice eats apples.','Bob pets cats.','Carol throws baseballs.','Alice throws Apples.','BOB EATS CATS.','RoboCop eats apples.'\n",
    ",'ALICE THROWS FOOTBALLS.','Carol eats 7 cats.']:\n",
    "    print(ele,'-',s.search(ele))"
   ]
  }
 ],
 "metadata": {
  "kernelspec": {
   "display_name": "Python 3 (ipykernel)",
   "language": "python",
   "name": "python3"
  },
  "language_info": {
   "codemirror_mode": {
    "name": "ipython",
    "version": 3
   },
   "file_extension": ".py",
   "mimetype": "text/x-python",
   "name": "python",
   "nbconvert_exporter": "python",
   "pygments_lexer": "ipython3",
   "version": "3.9.12"
  }
 },
 "nbformat": 4,
 "nbformat_minor": 5
}
